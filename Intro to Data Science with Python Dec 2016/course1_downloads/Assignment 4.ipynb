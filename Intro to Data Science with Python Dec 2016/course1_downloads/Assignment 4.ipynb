{
 "cells": [
  {
   "cell_type": "markdown",
   "metadata": {},
   "source": [
    "---\n",
    "\n",
    "_You are currently looking at **version 1.0** of this notebook. To download notebooks and datafiles, as well as get help on Jupyter notebooks in the Coursera platform, visit the [Jupyter Notebook FAQ](https://www.coursera.org/learn/python-data-analysis/resources/0dhYG) course resource._\n",
    "\n",
    "---"
   ]
  },
  {
   "cell_type": "code",
   "execution_count": 133,
   "metadata": {
    "collapsed": true
   },
   "outputs": [],
   "source": [
    "import pandas as pd\n",
    "import numpy as np\n",
    "from scipy.stats import ttest_ind"
   ]
  },
  {
   "cell_type": "markdown",
   "metadata": {},
   "source": [
    "# Assignment 4 - Hypothesis Testing\n",
    "This assignment requires more individual learning than previous assignments - you are encouraged to check out the [pandas documentation](http://pandas.pydata.org/pandas-docs/stable/) to find functions or methods you might not have used yet, or ask questions on [Stack Overflow](http://stackoverflow.com/) and tag them as pandas and python related. And of course, the discussion forums are open for interaction with your peers and the course staff.\n",
    "\n",
    "Definitions:\n",
    "* A _quarter_ is a specific three month period, Q1 is January through March, Q2 is April through June, Q3 is July through September, Q4 is October through December.\n",
    "* A _recession_ is defined as starting with two consecutive quarters of GDP decline, and ending with two consecutive quarters of GDP growth.\n",
    "* A _recession bottom_ is the quarter within a recession which had the lowest GDP.\n",
    "* A _university town_ is a city which has a high percentage of university students compared to the total population of the city.\n",
    "\n",
    "**Hypothesis**: University towns have their mean housing prices less effected by recessions. Run a t-test to compare the ratio of the mean price of houses in university towns the quarter before the recession starts compared to the recession bottom. (`price_ratio=quarter_before_recession/recession_bottom`)\n",
    "\n",
    "The following data files are available for this assignment:\n",
    "* From the [Zillow research data site](http://www.zillow.com/research/data/) there is housing data for the United States. In particular the datafile for [all homes at a city level](http://files.zillowstatic.com/research/public/City/City_Zhvi_AllHomes.csv), ```City_Zhvi_AllHomes.csv```, has median home sale prices at a fine grained level.\n",
    "* From the Wikipedia page on college towns is a list of [university towns in the United States](https://en.wikipedia.org/wiki/List_of_college_towns#College_towns_in_the_United_States) which has been copy and pasted into the file ```university_towns.txt```.\n",
    "* From Bureau of Economic Analysis, US Department of Commerce, the [GDP over time](http://www.bea.gov/national/index.htm#gdp) of the United States in current dollars (use the chained value in 2009 dollars), in quarterly intervals, in the file ```gdplev.xls```. For this assignment, only look at GDP data from the first quarter of 2000 onward.\n",
    "\n",
    "Each function in this assignment below is worth 10%, with the exception of ```run_ttest()```, which is worth 50%."
   ]
  },
  {
   "cell_type": "code",
   "execution_count": 134,
   "metadata": {
    "collapsed": false
   },
   "outputs": [],
   "source": [
    "# Use this dictionary to map state names to two letter acronyms\n",
    "states = {'OH': 'Ohio', 'KY': 'Kentucky', 'AS': 'American Samoa', 'NV': 'Nevada', 'WY': 'Wyoming', 'NA': 'National', 'AL': 'Alabama', 'MD': 'Maryland', 'AK': 'Alaska', 'UT': 'Utah', 'OR': 'Oregon', 'MT': 'Montana', 'IL': 'Illinois', 'TN': 'Tennessee', 'DC': 'District of Columbia', 'VT': 'Vermont', 'ID': 'Idaho', 'AR': 'Arkansas', 'ME': 'Maine', 'WA': 'Washington', 'HI': 'Hawaii', 'WI': 'Wisconsin', 'MI': 'Michigan', 'IN': 'Indiana', 'NJ': 'New Jersey', 'AZ': 'Arizona', 'GU': 'Guam', 'MS': 'Mississippi', 'PR': 'Puerto Rico', 'NC': 'North Carolina', 'TX': 'Texas', 'SD': 'South Dakota', 'MP': 'Northern Mariana Islands', 'IA': 'Iowa', 'MO': 'Missouri', 'CT': 'Connecticut', 'WV': 'West Virginia', 'SC': 'South Carolina', 'LA': 'Louisiana', 'KS': 'Kansas', 'NY': 'New York', 'NE': 'Nebraska', 'OK': 'Oklahoma', 'FL': 'Florida', 'CA': 'California', 'CO': 'Colorado', 'PA': 'Pennsylvania', 'DE': 'Delaware', 'NM': 'New Mexico', 'RI': 'Rhode Island', 'MN': 'Minnesota', 'VI': 'Virgin Islands', 'NH': 'New Hampshire', 'MA': 'Massachusetts', 'GA': 'Georgia', 'ND': 'North Dakota', 'VA': 'Virginia'}"
   ]
  },
  {
   "cell_type": "code",
   "execution_count": 135,
   "metadata": {
    "collapsed": false
   },
   "outputs": [
    {
     "data": {
      "text/plain": [
       "(517, 2)"
      ]
     },
     "execution_count": 135,
     "metadata": {},
     "output_type": "execute_result"
    }
   ],
   "source": [
    "import pandas as pd\n",
    "\n",
    "def get_list_of_university_towns():\n",
    "    '''Returns a DataFrame of towns and the states they are in from the \n",
    "    university_towns.txt list. The format of the DataFrame should be:\n",
    "    DataFrame( [ [\"Michigan\", \"Ann Arbor\"], [\"Michigan\", \"Yipsilanti\"] ], \n",
    "    columns=[\"State\", \"RegionName\"]  )\n",
    "    \n",
    "    The following cleaning needs to be done:\n",
    "\n",
    "    1. For \"State\", removing characters from \"[\" to the end.\n",
    "    2. For \"RegionName\", when applicable, removing every character from \" (\" to the end.\n",
    "    3. Depending on how you read the data, you may need to remove newline character '\\n'. '''\n",
    "     \n",
    "    data = open(\"university_towns.txt\",'r')\n",
    "    rows = [row for row in data]\n",
    "    region_name = []\n",
    "    \n",
    "    current_state = \"\"\n",
    "    for index,row in enumerate(rows):\n",
    "        if \"[edit]\" in row:\n",
    "            current_state=row\n",
    "        else:\n",
    "            region_name.append([current_state.split(\"[\")[0].strip(),row.split(\"(\")[0].strip()])\n",
    "    \n",
    "    df=pd.DataFrame(region_name).rename(columns={0:\"State\",1:\"RegionName\"})\n",
    "    return df\n",
    "\n",
    "get_list_of_university_towns().shape"
   ]
  },
  {
   "cell_type": "code",
   "execution_count": 136,
   "metadata": {
    "collapsed": false
   },
   "outputs": [
    {
     "data": {
      "text/plain": [
       "'2008q3'"
      ]
     },
     "execution_count": 136,
     "metadata": {},
     "output_type": "execute_result"
    }
   ],
   "source": [
    "def get_recession_start():\n",
    "    '''Returns the year and quarter of the recession start time as a \n",
    "    string value in a format such as 2005q3'''\n",
    "    \n",
    "    quarterly = pd.ExcelFile(\"gdplev.xls\").parse('Sheet1',skiprows=219,usecols=[4,6]).as_matrix().tolist()\n",
    "    \n",
    "    recession,recession_start_index=0,0\n",
    "    last_gdp=quarterly[0][1]\n",
    "    for index,quarter in enumerate(quarterly):\n",
    "        if quarter[1] < last_gdp:\n",
    "            recession=recession+1\n",
    "        elif recession < 2:\n",
    "                recession = 0\n",
    "                recession_start_index = index + 1\n",
    "                \n",
    "        if recession >= 2:\n",
    "                return quarterly[recession_start_index][0]\n",
    "                \n",
    "        last_gdp = quarter[1]\n",
    "        \n",
    "    return \"No recession\"\n",
    "\n",
    "get_recession_start()"
   ]
  },
  {
   "cell_type": "code",
   "execution_count": 137,
   "metadata": {
    "collapsed": false
   },
   "outputs": [
    {
     "data": {
      "text/plain": [
       "'2009q4'"
      ]
     },
     "execution_count": 137,
     "metadata": {},
     "output_type": "execute_result"
    }
   ],
   "source": [
    "def get_recession_end():\n",
    "    '''Returns the year and quarter of the recession end time as a \n",
    "    string value in a format such as 2005q3'''\n",
    "\n",
    "    quarterly = pd.ExcelFile(\"gdplev.xls\").parse('Sheet1',skiprows=219,usecols=[4,6]).as_matrix().tolist()\n",
    "    \n",
    "    recession,recession_end_index=0,0\n",
    "    recession_active=False\n",
    "    last_gdp=quarterly[0][1]\n",
    "    for index,quarter in enumerate(quarterly):\n",
    "        if recession_active == False:\n",
    "            if quarter[1] < last_gdp:\n",
    "                recession = recession + 1\n",
    "            elif recession < 2:\n",
    "                    recession = 0\n",
    "            if recession >= 2:\n",
    "                    recession=0\n",
    "                    recession_active=True\n",
    "        else:\n",
    "            if quarter[1] > last_gdp:\n",
    "                recession = recession + 1\n",
    "            elif recession < 2:\n",
    "                recession = 0\n",
    "            if recession >= 2:\n",
    "                return quarter[0]\n",
    "\n",
    "        last_gdp = quarter[1]\n",
    "        \n",
    "    return \"No recession\"\n",
    "\n",
    "get_recession_end()"
   ]
  },
  {
   "cell_type": "code",
   "execution_count": 138,
   "metadata": {
    "collapsed": false
   },
   "outputs": [
    {
     "data": {
      "text/plain": [
       "'2009q2'"
      ]
     },
     "execution_count": 138,
     "metadata": {},
     "output_type": "execute_result"
    }
   ],
   "source": [
    "def get_recession_bottom():\n",
    "    '''Returns the year and quarter of the recession bottom time as a \n",
    "    string value in a format such as 2005q3'''\n",
    "    \n",
    "    quarterly = pd.ExcelFile(\"gdplev.xls\").parse('Sheet1',skiprows=219,usecols=[4,6]).as_matrix().tolist()\n",
    "    \n",
    "    recession,recession_end_index=0,0\n",
    "    recession_active=False\n",
    "    recession_bottom=0\n",
    "    last_gdp=quarterly[0][1]\n",
    "    for index,quarter in enumerate(quarterly):\n",
    "        if recession_active == False:\n",
    "            if quarter[1] < last_gdp:\n",
    "                recession = recession + 1\n",
    "            elif recession < 2:\n",
    "                    recession = 0\n",
    "            if recession >= 2:\n",
    "                    recession=0\n",
    "                    recession_bottom=index\n",
    "                    recession_active=True\n",
    "        else:\n",
    "            if quarter[1] > last_gdp:\n",
    "                recession = recession + 1\n",
    "            else:\n",
    "                if quarterly[recession_bottom][1] > quarterly[index][1]:\n",
    "                    recession_bottom=index\n",
    "                if recession < 2:\n",
    "                    recession = 0\n",
    "                \n",
    "            if recession >= 2:\n",
    "                return quarterly[recession_bottom][0]\n",
    "\n",
    "        last_gdp = quarter[1]\n",
    "        \n",
    "    return \"No recession\"\n",
    "\n",
    "get_recession_bottom()"
   ]
  },
  {
   "cell_type": "code",
   "execution_count": 189,
   "metadata": {
    "collapsed": false
   },
   "outputs": [
    {
     "name": "stderr",
     "output_type": "stream",
     "text": [
      "/Users/soodd/anaconda/envs/py3/lib/python3.5/site-packages/ipykernel/__main__.py:24: FutureWarning: convert_objects is deprecated.  Use the data-type specific converters pd.to_datetime, pd.to_timedelta and pd.to_numeric.\n"
     ]
    },
    {
     "data": {
      "text/plain": [
       "(10730, 67)"
      ]
     },
     "execution_count": 189,
     "metadata": {},
     "output_type": "execute_result"
    }
   ],
   "source": [
    "def convert_abbrev(a_state,get_mode=True):\n",
    "    if get_mode:\n",
    "        for abbrev, state in states.items():\n",
    "            if a_state == state:\n",
    "                    return abbrev\n",
    "    else:\n",
    "        for abbrev, state in states.items():\n",
    "            if a_state == abbrev:\n",
    "                    return state\n",
    "    return \"Not Found\"\n",
    "\n",
    "def convert_housing_data_to_quarters():\n",
    "    '''Converts the housing data to quarters and returns it as mean \n",
    "    values in a dataframe. This dataframe should be a dataframe with\n",
    "    columns for 2000q1 through 2016q3, and should have a multi-index\n",
    "    in the shape of [\"State\",\"RegionName\"].\n",
    "    \n",
    "    Note: Quarters are defined in the assignment description, they are\n",
    "    not arbitrary three month periods.\n",
    "    \n",
    "    The resulting dataframe should have 67 columns, and 10,730 rows.\n",
    "    '''\n",
    "    cols=[1,2]+[i for i in range(51,251)]\n",
    "    df = pd.read_csv(\"City_Zhvi_AllHomes.csv\",usecols=cols).convert_objects(convert_numeric=True)\n",
    "    df[\"State\"]=df[\"State\"].apply(lambda abbrev:convert_abbrev(abbrev,False))\n",
    "    df=df.set_index([\"State\",\"RegionName\"])\n",
    "    quarters=[]\n",
    "    for i in range(2000,2016):\n",
    "        for j in range(1,5):\n",
    "            quarters.append(str(i)+\"q\"+str(j))\n",
    "            quarters.append(str(i)+\"q\"+str(j))\n",
    "            quarters.append(str(i)+\"q\"+str(j))\n",
    "    for j in range(1,3):\n",
    "        quarters.append(\"2016q0\"+str(j))\n",
    "        quarters.append(\"2016q0\"+str(j))\n",
    "        quarters.append(\"2016q0\"+str(j))\n",
    "    \n",
    "    quarters.append(\"2016q03\")\n",
    "    quarters.append(\"2016q03\")\n",
    "#     print(quarters)\n",
    "    df.columns=quarters\n",
    "    df=df.mean(axis=1, level=0)\n",
    "    \n",
    "    return df\n",
    "\n",
    "convert_housing_data_to_quarters().shape"
   ]
  },
  {
   "cell_type": "code",
   "execution_count": 188,
   "metadata": {
    "collapsed": false
   },
   "outputs": [
    {
     "name": "stderr",
     "output_type": "stream",
     "text": [
      "/Users/soodd/anaconda/envs/py3/lib/python3.5/site-packages/ipykernel/__main__.py:24: FutureWarning: convert_objects is deprecated.  Use the data-type specific converters pd.to_datetime, pd.to_timedelta and pd.to_numeric.\n"
     ]
    },
    {
     "data": {
      "text/plain": [
       "(True, 0.0027240637047531249, 'university town')"
      ]
     },
     "execution_count": 188,
     "metadata": {},
     "output_type": "execute_result"
    }
   ],
   "source": [
    "import scipy.stats as stats\n",
    "    \n",
    "def one_quarter_before(quarter):\n",
    "    cur_year=int(quarter[0:4])\n",
    "    cur_quarter=int(quarter[5:])\n",
    "    prev_year=cur_year\n",
    "    prev_quarter=cur_quarter-1\n",
    "    if prev_quarter==0:\n",
    "        prev_year=prev_year-1\n",
    "        prev_quarter=4\n",
    "    return str(prev_year)+\"q\"+str(prev_quarter)\n",
    "    \n",
    "def run_ttest():\n",
    "    '''First creates new data showing the decline or growth of housing prices\n",
    "    between the recession start and the recession bottom. Then runs a ttest\n",
    "    comparing the university town values to the non-university towns values, \n",
    "    return whether the alternative hypothesis (that the two groups are the same)\n",
    "    is true or not as well as the p-value of the confidence. \n",
    "    \n",
    "    Return the tuple (different, p, better) where different=True if the t-test is\n",
    "    True at a p<0.01 (we reject the null hypothesis), or different=False if \n",
    "    otherwise (we cannot reject the null hypothesis). The variable p should\n",
    "    be equal to the exact p value returned from scipy.stats.ttest_ind(). The\n",
    "    value for better should be either \"university town\" or \"non-university town\"\n",
    "    depending on which has a lower mean price ratio (which is equivilent to a\n",
    "    reduced market loss).'''\n",
    "    \n",
    "    start,bottom = get_recession_start(),get_recession_bottom()\n",
    "    housing = convert_housing_data_to_quarters()[[one_quarter_before(start),bottom]]\n",
    "    housing[\"PriceRatio\"] = housing[one_quarter_before(start)]/housing[bottom]\n",
    "    housing=housing.reset_index()[[\"State\",\"RegionName\",\"PriceRatio\"]].set_index([\"State\",\"RegionName\"])\n",
    "    university_towns = get_list_of_university_towns()\n",
    "\n",
    "    university_towns=university_towns.set_index([\"State\",\"RegionName\"])\n",
    "    univ_housing=pd.merge(housing,university_towns,how=\"inner\",left_index=True, right_index=True)\n",
    "#This is where I don't get pandas syntax and it's throwing errors and I go to the root myself to be verbose\n",
    "#Not very pandorable or performant and no use of categories and multi level indexes\n",
    "#Then I manually verify it's correct because it may not be robust as its not easily readable\n",
    "    n_u_h=housing.reset_index().as_matrix().tolist()\n",
    "    u_h=univ_housing.reset_index().as_matrix().tolist()\n",
    "    non_univ_housing=[]\n",
    "\n",
    "    for row in n_u_h:\n",
    "        flag=True\n",
    "        for row2 in u_h:\n",
    "            if row[0]==row2[0] and row[1]==row2[1]:\n",
    "                flag=False\n",
    "        if flag:\n",
    "            non_univ_housing.append(row)\n",
    "#Cleanup\n",
    "    non_univ_housing=pd.DataFrame(non_univ_housing)\n",
    "    non_univ_housing.columns=[\"State\",\"RegionName\",\"PriceRatio\"]\n",
    "    non_univ_housing=non_univ_housing.set_index([\"State\",\"RegionName\"])\n",
    "#End of the non pandorable part\n",
    "    result=stats.ttest_ind(univ_housing[\"PriceRatio\"],non_univ_housing[\"PriceRatio\"],nan_policy=\"omit\")\n",
    "    \n",
    "    different=False\n",
    "    if result.pvalue < 0.01 and (result.statistic > 2 or result.statistic < 2): \n",
    "        different=True\n",
    "    better=\"non-university town\"\n",
    "    if univ_housing[\"PriceRatio\"].mean() < non_univ_housing[\"PriceRatio\"].mean():\n",
    "        better = \"university town\"\n",
    "    return (different,result.pvalue,better)\n",
    "\n",
    "run_ttest()"
   ]
  },
  {
   "cell_type": "code",
   "execution_count": null,
   "metadata": {
    "collapsed": true
   },
   "outputs": [],
   "source": []
  }
 ],
 "metadata": {
  "anaconda-cloud": {},
  "coursera": {
   "course_slug": "python-data-analysis",
   "graded_item_id": "Il9Fx",
   "launcher_item_id": "TeDW0",
   "part_id": "WGlun"
  },
  "kernelspec": {
   "display_name": "Python 3",
   "language": "python",
   "name": "python3"
  },
  "language_info": {
   "codemirror_mode": {
    "name": "ipython",
    "version": 3
   },
   "file_extension": ".py",
   "mimetype": "text/x-python",
   "name": "python",
   "nbconvert_exporter": "python",
   "pygments_lexer": "ipython3",
   "version": "3.5.0"
  }
 },
 "nbformat": 4,
 "nbformat_minor": 0
}
