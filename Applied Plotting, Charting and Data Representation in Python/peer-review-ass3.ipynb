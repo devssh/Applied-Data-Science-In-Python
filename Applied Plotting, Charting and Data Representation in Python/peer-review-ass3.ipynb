{
 "cells": [
  {
   "cell_type": "markdown",
   "metadata": {},
   "source": [
    "# Assignment 3 - Building a Custom Visualization\n",
    "\n",
    "---\n",
    "\n",
    "In this assignment you must choose one of the options presented below and submit a visual as well as your source code for peer grading. The details of how you solve the assignment are up to you, although your assignment must use matplotlib so that your peers can evaluate your work. The options differ in challenge level, but there are no grades associated with the challenge level you chose. However, your peers will be asked to ensure you at least met a minimum quality for a given technique in order to pass. Implement the technique fully (or exceed it!) and you should be able to earn full grades for the assignment.\n",
    "\n",
    "\n",
    "&nbsp;&nbsp;&nbsp;&nbsp;&nbsp;&nbsp;Ferreira, N., Fisher, D., & Konig, A. C. (2014, April). [Sample-oriented task-driven visualizations: allowing users to make better, more confident decisions.](https://www.microsoft.com/en-us/research/wp-content/uploads/2016/02/Ferreira_Fisher_Sample_Oriented_Tasks.pdf) \n",
    "&nbsp;&nbsp;&nbsp;&nbsp;&nbsp;&nbsp;In Proceedings of the SIGCHI Conference on Human Factors in Computing Systems (pp. 571-580). ACM. ([video](https://www.youtube.com/watch?v=BI7GAs-va-Q))\n",
    "\n",
    "\n",
    "In this [paper](https://www.microsoft.com/en-us/research/wp-content/uploads/2016/02/Ferreira_Fisher_Sample_Oriented_Tasks.pdf) the authors describe the challenges users face when trying to make judgements about probabilistic data generated through samples. As an example, they look at a bar chart of four years of data (replicated below in Figure 1). Each year has a y-axis value, which is derived from a sample of a larger dataset. For instance, the first value might be the number votes in a given district or riding for 1992, with the average being around 33,000. On top of this is plotted the confidence interval -- the range of the number of votes which encapsulates 95% of the data (see the boxplot lectures for more information, and the yerr parameter of barcharts).\n",
    "\n",
    "<br>\n",
    "<img src=\"readonly/Assignment3Fig1.png\" alt=\"Figure 1\" style=\"width: 400px;\"/>\n",
    "<h4 style=\"text-align: center;\" markdown=\"1\">  &nbsp;&nbsp;&nbsp;&nbsp;&nbsp;&nbsp;&nbsp;&nbsp;Figure 1 from (Ferreira et al, 2014).</h4>\n",
    "\n",
    "<br>\n",
    "\n",
    "A challenge that users face is that, for a given y-axis value (e.g. 42,000), it is difficult to know which x-axis values are most likely to be representative, because the confidence levels overlap and their distributions are different (the lengths of the confidence interval bars are unequal). One of the solutions the authors propose for this problem (Figure 2c) is to allow users to indicate the y-axis value of interest (e.g. 42,000) and then draw a horizontal line and color bars based on this value. So bars might be colored red if they are definitely above this value (given the confidence interval), blue if they are definitely below this value, or white if they contain this value.\n",
    "\n",
    "\n",
    "<br>\n",
    "<img src=\"readonly/Assignment3Fig2c.png\" alt=\"Figure 1\" style=\"width: 400px;\"/>\n",
    "<h4 style=\"text-align: center;\" markdown=\"1\">  Figure 2c from (Ferreira et al. 2014). Note that the colorbar legend at the bottom as well as the arrows are not required in the assignment descriptions below.</h4>\n",
    "\n",
    "<br>\n",
    "<br>\n",
    "\n",
    "**Easiest option:** Implement the bar coloring as described above - a color scale with only three colors, (e.g. blue, white, and red). Assume the user provides the y axis value of interest as a parameter or variable.\n",
    "\n",
    "\n",
    "**Harder option:** Implement the bar coloring as described in the paper, where the color of the bar is actually based on the amount of data covered (e.g. a gradient ranging from dark blue for the distribution being certainly below this y-axis, to white if the value is certainly contained, to dark red if the value is certainly not contained as the distribution is above the axis).\n",
    "\n",
    "**Even Harder option:** Add interactivity to the above, which allows the user to click on the y axis to set the value of interest. The bar colors should change with respect to what value the user has selected.\n",
    "\n",
    "**Hardest option:** Allow the user to interactively set a range of y values they are interested in, and recolor based on this (e.g. a y-axis band, see the paper for more details).\n",
    "\n",
    "---"
   ]
  },
  {
   "cell_type": "code",
   "execution_count": 8,
   "metadata": {
    "collapsed": false
   },
   "outputs": [
    {
     "data": {
      "text/html": [
       "<div>\n",
       "<table border=\"1\" class=\"dataframe\">\n",
       "  <thead>\n",
       "    <tr style=\"text-align: right;\">\n",
       "      <th></th>\n",
       "      <th>0</th>\n",
       "      <th>1</th>\n",
       "      <th>2</th>\n",
       "      <th>3</th>\n",
       "      <th>4</th>\n",
       "      <th>5</th>\n",
       "      <th>6</th>\n",
       "      <th>7</th>\n",
       "      <th>8</th>\n",
       "      <th>9</th>\n",
       "      <th>...</th>\n",
       "      <th>3640</th>\n",
       "      <th>3641</th>\n",
       "      <th>3642</th>\n",
       "      <th>3643</th>\n",
       "      <th>3644</th>\n",
       "      <th>3645</th>\n",
       "      <th>3646</th>\n",
       "      <th>3647</th>\n",
       "      <th>3648</th>\n",
       "      <th>3649</th>\n",
       "    </tr>\n",
       "  </thead>\n",
       "  <tbody>\n",
       "    <tr>\n",
       "      <th>1992</th>\n",
       "      <td>2793.851077</td>\n",
       "      <td>105341.500709</td>\n",
       "      <td>-44415.807259</td>\n",
       "      <td>-49859.545652</td>\n",
       "      <td>328367.085875</td>\n",
       "      <td>242510.874946</td>\n",
       "      <td>47436.181512</td>\n",
       "      <td>75761.922925</td>\n",
       "      <td>148853.385142</td>\n",
       "      <td>220465.210458</td>\n",
       "      <td>...</td>\n",
       "      <td>138454.070217</td>\n",
       "      <td>122488.069943</td>\n",
       "      <td>162247.982356</td>\n",
       "      <td>-273907.868554</td>\n",
       "      <td>-138410.570396</td>\n",
       "      <td>27638.756441</td>\n",
       "      <td>-33120.047151</td>\n",
       "      <td>-40989.824866</td>\n",
       "      <td>94532.974507</td>\n",
       "      <td>6128.841097</td>\n",
       "    </tr>\n",
       "    <tr>\n",
       "      <th>1993</th>\n",
       "      <td>-44406.485331</td>\n",
       "      <td>180815.466879</td>\n",
       "      <td>-108866.427539</td>\n",
       "      <td>-114625.083717</td>\n",
       "      <td>196807.232582</td>\n",
       "      <td>47161.295355</td>\n",
       "      <td>136522.083654</td>\n",
       "      <td>58826.904901</td>\n",
       "      <td>23329.019613</td>\n",
       "      <td>-96417.638483</td>\n",
       "      <td>...</td>\n",
       "      <td>-37809.868064</td>\n",
       "      <td>93228.910228</td>\n",
       "      <td>108183.379950</td>\n",
       "      <td>146728.060346</td>\n",
       "      <td>-10083.899508</td>\n",
       "      <td>-31300.144215</td>\n",
       "      <td>95017.857057</td>\n",
       "      <td>164071.514663</td>\n",
       "      <td>14409.944591</td>\n",
       "      <td>33298.608969</td>\n",
       "    </tr>\n",
       "    <tr>\n",
       "      <th>1994</th>\n",
       "      <td>134288.798913</td>\n",
       "      <td>169097.538334</td>\n",
       "      <td>337957.368420</td>\n",
       "      <td>-76005.273164</td>\n",
       "      <td>90130.207911</td>\n",
       "      <td>8453.626320</td>\n",
       "      <td>-24562.317561</td>\n",
       "      <td>195665.400438</td>\n",
       "      <td>-53475.640770</td>\n",
       "      <td>44708.230667</td>\n",
       "      <td>...</td>\n",
       "      <td>145216.405451</td>\n",
       "      <td>67773.006363</td>\n",
       "      <td>95711.194465</td>\n",
       "      <td>174500.629277</td>\n",
       "      <td>-27821.888075</td>\n",
       "      <td>-57881.583140</td>\n",
       "      <td>26321.525617</td>\n",
       "      <td>-21424.067186</td>\n",
       "      <td>60164.652898</td>\n",
       "      <td>-74750.286614</td>\n",
       "    </tr>\n",
       "    <tr>\n",
       "      <th>1995</th>\n",
       "      <td>-44485.202120</td>\n",
       "      <td>-156.410517</td>\n",
       "      <td>-13425.878636</td>\n",
       "      <td>53540.999558</td>\n",
       "      <td>130408.559874</td>\n",
       "      <td>20445.656224</td>\n",
       "      <td>60336.077232</td>\n",
       "      <td>60688.099156</td>\n",
       "      <td>-12748.496722</td>\n",
       "      <td>57150.175074</td>\n",
       "      <td>...</td>\n",
       "      <td>-636.804950</td>\n",
       "      <td>49707.896672</td>\n",
       "      <td>52687.564135</td>\n",
       "      <td>13529.920850</td>\n",
       "      <td>67016.324752</td>\n",
       "      <td>41664.942829</td>\n",
       "      <td>119870.946944</td>\n",
       "      <td>56946.289297</td>\n",
       "      <td>67927.466106</td>\n",
       "      <td>32839.707999</td>\n",
       "    </tr>\n",
       "  </tbody>\n",
       "</table>\n",
       "<p>4 rows × 3650 columns</p>\n",
       "</div>"
      ],
      "text/plain": [
       "               0              1              2              3     \\\n",
       "1992    2793.851077  105341.500709  -44415.807259  -49859.545652   \n",
       "1993  -44406.485331  180815.466879 -108866.427539 -114625.083717   \n",
       "1994  134288.798913  169097.538334  337957.368420  -76005.273164   \n",
       "1995  -44485.202120    -156.410517  -13425.878636   53540.999558   \n",
       "\n",
       "               4              5              6              7     \\\n",
       "1992  328367.085875  242510.874946   47436.181512   75761.922925   \n",
       "1993  196807.232582   47161.295355  136522.083654   58826.904901   \n",
       "1994   90130.207911    8453.626320  -24562.317561  195665.400438   \n",
       "1995  130408.559874   20445.656224   60336.077232   60688.099156   \n",
       "\n",
       "               8              9         ...                3640  \\\n",
       "1992  148853.385142  220465.210458      ...       138454.070217   \n",
       "1993   23329.019613  -96417.638483      ...       -37809.868064   \n",
       "1994  -53475.640770   44708.230667      ...       145216.405451   \n",
       "1995  -12748.496722   57150.175074      ...         -636.804950   \n",
       "\n",
       "               3641           3642           3643           3644  \\\n",
       "1992  122488.069943  162247.982356 -273907.868554 -138410.570396   \n",
       "1993   93228.910228  108183.379950  146728.060346  -10083.899508   \n",
       "1994   67773.006363   95711.194465  174500.629277  -27821.888075   \n",
       "1995   49707.896672   52687.564135   13529.920850   67016.324752   \n",
       "\n",
       "              3645           3646           3647          3648          3649  \n",
       "1992  27638.756441  -33120.047151  -40989.824866  94532.974507   6128.841097  \n",
       "1993 -31300.144215   95017.857057  164071.514663  14409.944591  33298.608969  \n",
       "1994 -57881.583140   26321.525617  -21424.067186  60164.652898 -74750.286614  \n",
       "1995  41664.942829  119870.946944   56946.289297  67927.466106  32839.707999  \n",
       "\n",
       "[4 rows x 3650 columns]"
      ]
     },
     "execution_count": 8,
     "metadata": {},
     "output_type": "execute_result"
    }
   ],
   "source": [
    "# Use the following data for this assignment:\n",
    "\n",
    "import pandas as pd\n",
    "import numpy as np\n",
    "\n",
    "np.random.seed(12345)\n",
    "\n",
    "df = pd.DataFrame([np.random.normal(33500,150000,3650), \n",
    "                   np.random.normal(41000,90000,3650), \n",
    "                   np.random.normal(41000,120000,3650), \n",
    "                   np.random.normal(48000,55000,3650)], \n",
    "                  index=[1992,1993,1994,1995])\n",
    "df"
   ]
  },
  {
   "cell_type": "code",
   "execution_count": 9,
   "metadata": {
    "collapsed": false
   },
   "outputs": [],
   "source": [
    "import scipy.stats as stats\n",
    "import matplotlib as mpl\n",
    "import matplotlib.pyplot as plt\n",
    "import numpy as np"
   ]
  },
  {
   "cell_type": "code",
   "execution_count": 10,
   "metadata": {
    "collapsed": false
   },
   "outputs": [
    {
     "data": {
      "text/plain": [
       "[(29600.877093147781, 39367.284120168828),\n",
       " (37101.744227026262, 42849.602946905921),\n",
       " (33661.121728397404, 41470.258171143643),\n",
       " (46019.206175864121, 49577.8024901272)]"
      ]
     },
     "execution_count": 10,
     "metadata": {},
     "output_type": "execute_result"
    }
   ],
   "source": [
    "errs = [stats.t.interval(0.95, len(df.iloc[i])-1, loc=np.mean(df.iloc[i]), scale=stats.sem(df.iloc[i])) for i in range(len(df.index))]\n",
    "errs"
   ]
  },
  {
   "cell_type": "code",
   "execution_count": 12,
   "metadata": {
    "collapsed": false
   },
   "outputs": [
    {
     "ename": "NameError",
     "evalue": "name 'norms' is not defined",
     "output_type": "error",
     "traceback": [
      "\u001b[0;31m---------------------------------------------------------------------------\u001b[0m",
      "\u001b[0;31mNameError\u001b[0m                                 Traceback (most recent call last)",
      "\u001b[0;32m<ipython-input-12-165c8ecc02b2>\u001b[0m in \u001b[0;36m<module>\u001b[0;34m()\u001b[0m\n\u001b[1;32m      1\u001b[0m \u001b[0mtarget\u001b[0m \u001b[0;34m=\u001b[0m \u001b[0;36m39541\u001b[0m\u001b[0;34m\u001b[0m\u001b[0m\n\u001b[0;32m----> 2\u001b[0;31m \u001b[0mnormtargs\u001b[0m \u001b[0;34m=\u001b[0m \u001b[0;34m[\u001b[0m\u001b[0mnorm\u001b[0m\u001b[0;34m(\u001b[0m\u001b[0mtarget\u001b[0m\u001b[0;34m)\u001b[0m \u001b[0;32mfor\u001b[0m \u001b[0mnorm\u001b[0m \u001b[0;32min\u001b[0m \u001b[0mnorms\u001b[0m\u001b[0;34m]\u001b[0m\u001b[0;34m\u001b[0m\u001b[0m\n\u001b[0m\u001b[1;32m      3\u001b[0m \u001b[0mnormtargs\u001b[0m\u001b[0;34m\u001b[0m\u001b[0m\n",
      "\u001b[0;31mNameError\u001b[0m: name 'norms' is not defined"
     ]
    }
   ],
   "source": [
    "target = 39541\n",
    "normtargs = [norm(target) for norm in norms]\n",
    "normtargs"
   ]
  },
  {
   "cell_type": "code",
   "execution_count": 13,
   "metadata": {
    "collapsed": false
   },
   "outputs": [
    {
     "data": {
      "text/plain": [
       "<matplotlib.lines.Line2D at 0x11a6597f0>"
      ]
     },
     "execution_count": 13,
     "metadata": {},
     "output_type": "execute_result"
    }
   ],
   "source": [
    "fig, axs = plt.subplots()\n",
    "bars = axs.bar(\n",
    "    np.arange(len(df.index)),\n",
    "    [df.iloc[i].mean() for i in range(len(df.index))],\n",
    "    yerr = [(errs[i][1]-errs[i][0]) for i in range(len(df.index))],\n",
    "    align='center', \n",
    "    alpha=0.5,\n",
    "    error_kw=dict(ecolor='gray', lw=2, capsize=10, capthick=2)\n",
    "    )\n",
    "plt.xticks(np.arange(len(df.index)), df.index.values)\n",
    "plt.axhline(y=target, zorder=0, color='g')"
   ]
  },
  {
   "cell_type": "code",
   "execution_count": 14,
   "metadata": {
    "collapsed": false
   },
   "outputs": [
    {
     "ename": "NameError",
     "evalue": "name 'normtargs' is not defined",
     "output_type": "error",
     "traceback": [
      "\u001b[0;31m---------------------------------------------------------------------------\u001b[0m",
      "\u001b[0;31mNameError\u001b[0m                                 Traceback (most recent call last)",
      "\u001b[0;32m<ipython-input-14-775ddcdc4893>\u001b[0m in \u001b[0;36m<module>\u001b[0;34m()\u001b[0m\n\u001b[1;32m      1\u001b[0m \u001b[0;32mfor\u001b[0m \u001b[0mi\u001b[0m \u001b[0;32min\u001b[0m \u001b[0mrange\u001b[0m\u001b[0;34m(\u001b[0m\u001b[0mlen\u001b[0m\u001b[0;34m(\u001b[0m\u001b[0mbars\u001b[0m\u001b[0;34m)\u001b[0m\u001b[0;34m)\u001b[0m\u001b[0;34m:\u001b[0m\u001b[0;34m\u001b[0m\u001b[0m\n\u001b[0;32m----> 2\u001b[0;31m     \u001b[0mbars\u001b[0m\u001b[0;34m[\u001b[0m\u001b[0mi\u001b[0m\u001b[0;34m]\u001b[0m\u001b[0;34m.\u001b[0m\u001b[0mset_color\u001b[0m\u001b[0;34m(\u001b[0m\u001b[0mmpl\u001b[0m\u001b[0;34m.\u001b[0m\u001b[0mcm\u001b[0m\u001b[0;34m.\u001b[0m\u001b[0mviridis\u001b[0m\u001b[0;34m(\u001b[0m\u001b[0mnormtargs\u001b[0m\u001b[0;34m[\u001b[0m\u001b[0mi\u001b[0m\u001b[0;34m]\u001b[0m\u001b[0;34m)\u001b[0m\u001b[0;34m)\u001b[0m\u001b[0;34m\u001b[0m\u001b[0m\n\u001b[0m",
      "\u001b[0;31mNameError\u001b[0m: name 'normtargs' is not defined"
     ]
    }
   ],
   "source": [
    "for i in range(len(bars)):\n",
    "    bars[i].set_color(mpl.cm.viridis(normtargs[i]))"
   ]
  },
  {
   "cell_type": "code",
   "execution_count": 15,
   "metadata": {
    "collapsed": false
   },
   "outputs": [
    {
     "data": {
      "image/png": "[encoded data removed]",
      "text/plain": [
       "<matplotlib.figure.Figure at 0x11a659780>"
      ]
     },
     "metadata": {},
     "output_type": "display_data"
    }
   ],
   "source": [
    "plt.show()"
   ]
  },
  {
   "cell_type": "code",
   "execution_count": null,
   "metadata": {
    "collapsed": true
   },
   "outputs": [],
   "source": []
  }
 ],
 "metadata": {
  "kernelspec": {
   "display_name": "Python 3",
   "language": "python",
   "name": "python3"
  },
  "language_info": {
   "codemirror_mode": {
    "name": "ipython",
    "version": 3
   },
   "file_extension": ".py",
   "mimetype": "text/x-python",
   "name": "python",
   "nbconvert_exporter": "python",
   "pygments_lexer": "ipython3",
   "version": "3.6.0"
  }
 },
 "nbformat": 4,
 "nbformat_minor": 2
}
